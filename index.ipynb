{
 "cells": [
  {
   "cell_type": "markdown",
   "metadata": {},
   "source": [
    "# APIs - Cumulative Lab\n",
    "\n",
    "\n",
    "## Introduction \n",
    "\n",
    "We've seen how the Yelp API works and how to create basic visualizations using Folium. It's time to put those skills to work in order to create a working map! Taking things a step further, you'll also independently explore how to perform pagination in order to retrieve a full results set from the Yelp API.\n",
    "\n",
    "## Objectives\n",
    "\n",
    "You will be able to: \n",
    "\n",
    "* Practice using functions to organize your code\n",
    "* Use pagination to retrieve all results from an API query\n",
    "* Practice parsing data returned from an API query\n",
    "* Practice interpreting visualizations of a dataset\n",
    "* Create maps using Folium"
   ]
  },
  {
   "cell_type": "markdown",
   "metadata": {},
   "source": [
    "## Your Task: Query Yelp for All Businesses in a Category and Analyze the Results\n",
    "\n",
    "![restaurant counter with pizza](images/restaurant_counter.jpg)\n",
    "\n",
    "Photo by <a href=\"https://unsplash.com/@jordanmadrid?utm_source=unsplash&utm_medium=referral&utm_content=creditCopyText\">Jordan Madrid</a> on <a href=\"/s/photos/pizza-restaurant?utm_source=unsplash&utm_medium=referral&utm_content=creditCopyText\">Unsplash</a>"
   ]
  },
  {
   "cell_type": "markdown",
   "metadata": {},
   "source": [
    "### Overview\n",
    "\n",
    "You've now worked with some API calls, but we have yet to see how to retrieve a more complete dataset in a programmatic manner. In this lab, you will write a query of businesses on Yelp, then use *pagination* to retrieve all possible results for that query. Then you will create a summary of your findings, including a Folium map of the geographic locations of those businesses.\n",
    "\n",
    "### Technical Details\n",
    "\n",
    "Returning to the Yelp API, the [documentation](https://www.yelp.com/developers/documentation/v3/business_search) also provides us details regarding the **API limits**. These often include details about the number of requests a user is allowed to make within a specified time limit and the maximum number of results to be returned. In this case, we are told that any request has a **maximum of 50 results per request** and defaults to 20. Furthermore, any search will be limited to a **total of 1000 results**. To retrieve all 1000 of these results, we would have to page through the results piece by piece, retrieving 50 at a time. Processes such as these are often referred to as pagination.\n",
    "\n",
    "Also, be mindful of the **API** ***rate*** **limits**. You can only make **5000 requests per day** and are also can make requests too fast. Start prototyping small before running a loop that could be faulty. You can also use `time.sleep(n)` to add delays. For more details see https://www.yelp.com/developers/documentation/v3/rate_limiting.\n",
    "\n",
    "In this lab, you will define a search and then paginate over the results to retrieve all of the results. You'll then parse these responses as a list of dictionaries (for further exploration) and create a map using Folium to visualize the results geographically.\n",
    "\n",
    "### Requirements\n",
    "\n",
    "#### 1. Make the Initial Request\n",
    "\n",
    "Start by filling in your API key to make the initial request to the business search API. Investigate the structure of the response you get back and start figuring out how you will extract the relevant information.\n",
    "\n",
    "#### 2. Add Pagination\n",
    "\n",
    "Using loops and functions, collect the maximum number of results for your query from the API.\n",
    "\n",
    "#### 3. Perform Exploratory Analysis\n",
    "\n",
    "Interpret visualizations related to the price range, average rating, and number of reviews for all query results.\n",
    "\n",
    "#### 4. Create a Folium Map\n",
    "\n",
    "Using latitude and longitude data, plot the query results on an interactive map."
   ]
  },
  {
   "cell_type": "markdown",
   "metadata": {},
   "source": [
    "## 1. Make the Initial Request\n",
    "\n",
    "### Querying\n",
    "\n",
    "Start by making an initial request to the Yelp API. Your search must include at least 2 parameters: **term** and **location**. For example, you might search for pizza restaurants in NYC. The term and location is up to you but make the request below.\n",
    "\n",
    "Use the `requests` library ([documentation here](https://requests.readthedocs.io/en/master/user/quickstart/#make-a-request)).\n",
    "\n",
    "You'll also need an API key from Yelp. If you haven't done this already, go to the Yelp [Manage App page](https://www.yelp.com/developers/v3/manage_app) and create a new app (after making an account if you haven't already)."
   ]
  },
  {
   "cell_type": "code",
   "execution_count": 5,
   "metadata": {},
   "outputs": [],
   "source": [
    "import json\n",
    "\n",
    "def get_keys(path):\n",
    "    with open(path) as f:\n",
    "        return json.load(f)"
   ]
  },
  {
   "cell_type": "code",
   "execution_count": 6,
   "metadata": {},
   "outputs": [
    {
     "data": {
      "text/plain": [
       "<Response [200]>"
      ]
     },
     "execution_count": 6,
     "metadata": {},
     "output_type": "execute_result"
    }
   ],
   "source": [
    "# Replace None with appropriate code\n",
    "\n",
    "# Import the requests library\n",
    "import requests\n",
    "\n",
    "# Get this from the \"Manage App\" page. Make sure you set them\n",
    "# back to None before pushing this to GitHub, since otherwise\n",
    "# your credentials will be compromised\n",
    "keys = get_keys(\"/Users/justin/.secret/yelp_api.json\")\n",
    "api_key = keys['api_key']\n",
    "\n",
    "# These can be whatever you want! But the solution uses \"pizza\"\n",
    "# and \"New York NY\" if you want to compare your work directly\n",
    "term = \"pizza\"\n",
    "location = \"New York NY\"\n",
    "\n",
    "# Set up params for request\n",
    "url = \"https://api.yelp.com/v3/businesses/search\"\n",
    "headers = {\n",
    "    \"Authorization\": \"Bearer {}\".format(api_key)\n",
    "}\n",
    "url_params = {\n",
    "    \"term\": term.replace(\" \", \"+\"),\n",
    "    \"location\": location.replace(\" \", \"+\")\n",
    "}\n",
    "\n",
    "# Make the request using requests.get, passing in\n",
    "# url, headers=headers, and params=url_params\n",
    "response = requests.get(url, headers=headers, params=url_params)\n",
    "\n",
    "# Confirm we got a 200 response\n",
    "response"
   ]
  },
  {
   "cell_type": "code",
   "execution_count": 9,
   "metadata": {},
   "outputs": [
    {
     "data": {
      "text/plain": [
       "dict_keys(['businesses', 'total', 'region'])"
      ]
     },
     "execution_count": 9,
     "metadata": {},
     "output_type": "execute_result"
    }
   ],
   "source": [
    "# Run this cell without changes\n",
    "\n",
    "# Get the response body in JSON format\n",
    "response_json = response.json()\n",
    "# View the keys\n",
    "response_json.keys()"
   ]
  },
  {
   "cell_type": "markdown",
   "metadata": {},
   "source": [
    "### Extracting Data\n",
    "\n",
    "Now, retrieve the value associated with the `'businesses'` key, and inspect its contents."
   ]
  },
  {
   "cell_type": "code",
   "execution_count": 8,
   "metadata": {},
   "outputs": [
    {
     "data": {
      "text/plain": [
       "[{'id': 'zj8Lq1T8KIC5zwFief15jg',\n",
       "  'alias': 'prince-street-pizza-new-york-2',\n",
       "  'name': 'Prince Street Pizza',\n",
       "  'image_url': 'https://s3-media3.fl.yelpcdn.com/bphoto/ZAukOyv530w4KjOHC5YY1w/o.jpg',\n",
       "  'is_closed': False,\n",
       "  'url': 'https://www.yelp.com/biz/prince-street-pizza-new-york-2?adjust_creative=lRksU7V-uqLuCB2mKYxyrg&utm_campaign=yelp_api_v3&utm_medium=api_v3_business_search&utm_source=lRksU7V-uqLuCB2mKYxyrg',\n",
       "  'review_count': 4140,\n",
       "  'categories': [{'alias': 'pizza', 'title': 'Pizza'},\n",
       "   {'alias': 'italian', 'title': 'Italian'}],\n",
       "  'rating': 4.5,\n",
       "  'coordinates': {'latitude': 40.72308755605564,\n",
       "   'longitude': -73.99453001177575},\n",
       "  'transactions': ['delivery', 'pickup'],\n",
       "  'price': '$',\n",
       "  'location': {'address1': '27 Prince St',\n",
       "   'address2': None,\n",
       "   'address3': '',\n",
       "   'city': 'New York',\n",
       "   'zip_code': '10012',\n",
       "   'country': 'US',\n",
       "   'state': 'NY',\n",
       "   'display_address': ['27 Prince St', 'New York, NY 10012']},\n",
       "  'phone': '+12129664100',\n",
       "  'display_phone': '(212) 966-4100',\n",
       "  'distance': 1961.8771417367063},\n",
       " {'id': 'WIhm0W9197f_rRtDziq5qQ',\n",
       "  'alias': 'lombardis-pizza-new-york-4',\n",
       "  'name': \"Lombardi's Pizza\",\n",
       "  'image_url': 'https://s3-media1.fl.yelpcdn.com/bphoto/UZ6V_hobp1KpYDPOHNoCKw/o.jpg',\n",
       "  'is_closed': False,\n",
       "  'url': 'https://www.yelp.com/biz/lombardis-pizza-new-york-4?adjust_creative=lRksU7V-uqLuCB2mKYxyrg&utm_campaign=yelp_api_v3&utm_medium=api_v3_business_search&utm_source=lRksU7V-uqLuCB2mKYxyrg',\n",
       "  'review_count': 6244,\n",
       "  'categories': [{'alias': 'pizza', 'title': 'Pizza'}],\n",
       "  'rating': 4.0,\n",
       "  'coordinates': {'latitude': 40.7215934960083,\n",
       "   'longitude': -73.9955956044561},\n",
       "  'transactions': ['delivery', 'pickup'],\n",
       "  'price': '$$',\n",
       "  'location': {'address1': '32 Spring St',\n",
       "   'address2': '',\n",
       "   'address3': '',\n",
       "   'city': 'New York',\n",
       "   'zip_code': '10012',\n",
       "   'country': 'US',\n",
       "   'state': 'NY',\n",
       "   'display_address': ['32 Spring St', 'New York, NY 10012']},\n",
       "  'phone': '+12129417994',\n",
       "  'display_phone': '(212) 941-7994',\n",
       "  'distance': 1798.9959778083735}]"
      ]
     },
     "execution_count": 8,
     "metadata": {},
     "output_type": "execute_result"
    }
   ],
   "source": [
    "# Replace None with appropriate code\n",
    "\n",
    "# Retrieve the value from response_json\n",
    "businesses = response_json['businesses']\n",
    "\n",
    "# View the first 2 records\n",
    "businesses[:2]"
   ]
  },
  {
   "cell_type": "markdown",
   "metadata": {},
   "source": [
    "### Preparing Data\n",
    "\n",
    "Write a function `prepare_data` that takes in a list of dictionaries like `businesses` and returns a copy that has been prepared for analysis:\n",
    "\n",
    "1. The `coordinates` key-value pair has been converted into two separate key-value pairs, `latitude` and `longitude`\n",
    "2. All other key-value pairs except for `name`, `review_count`, `rating`, and `price` have been dropped\n",
    "3. All dictionaries missing one of the relevant keys or containing null values have been dropped\n",
    "\n",
    "In other words, the final keys for each dictionary should be `name`, `review_count`, `rating`, `price`, `latitude`, and `longitude`.\n",
    "\n",
    "Complete the function in the cell below:"
   ]
  },
  {
   "cell_type": "code",
   "execution_count": 13,
   "metadata": {},
   "outputs": [
    {
     "data": {
      "text/plain": [
       "[{'name': 'Prince Street Pizza',\n",
       "  'review_count': 4140,\n",
       "  'rating': 4.5,\n",
       "  'price': '$',\n",
       "  'latitude': 40.72308755605564,\n",
       "  'longitude': -73.99453001177575},\n",
       " {'name': \"Lombardi's Pizza\",\n",
       "  'review_count': 6244,\n",
       "  'rating': 4.0,\n",
       "  'price': '$$',\n",
       "  'latitude': 40.7215934960083,\n",
       "  'longitude': -73.9955956044561},\n",
       " {'name': \"Juliana's\",\n",
       "  'review_count': 2388,\n",
       "  'rating': 4.5,\n",
       "  'price': '$$',\n",
       "  'latitude': 40.70274718768062,\n",
       "  'longitude': -73.99343490196397},\n",
       " {'name': 'Rubirosa',\n",
       "  'review_count': 2541,\n",
       "  'rating': 4.5,\n",
       "  'price': '$$',\n",
       "  'latitude': 40.722766,\n",
       "  'longitude': -73.996233},\n",
       " {'name': 'Lucali',\n",
       "  'review_count': 1745,\n",
       "  'rating': 4.0,\n",
       "  'price': '$$',\n",
       "  'latitude': 40.6818,\n",
       "  'longitude': -74.00024}]"
      ]
     },
     "execution_count": 13,
     "metadata": {},
     "output_type": "execute_result"
    }
   ],
   "source": [
    "# Replace None with appropriate code\n",
    "\n",
    "def prepare_data(data_list):\n",
    "    \"\"\"\n",
    "    This function takes in a list of dictionaries and prepares it\n",
    "    for analysis\n",
    "    \"\"\"\n",
    "    \n",
    "    # Make a new list to hold results\n",
    "    results = []\n",
    "    \n",
    "    for business_data in data_list:\n",
    "    \n",
    "        # Make a new dictionary to hold prepared data for this business\n",
    "        prepared_data = {}\n",
    "        \n",
    "        # Extract name, review_count, rating, and price key-value pairs\n",
    "        # from business_data and add to prepared_data\n",
    "        # If a key is not present in business_data, add it to prepared_data\n",
    "        # with an associated value of None\n",
    "        for key in (\"name\", \"review_count\", \"rating\", \"price\"):\n",
    "            prepared_data[key] = business_data.get(key, None)\n",
    "    \n",
    "        # Parse and add latitude and longitude columns\n",
    "        coordinates = business_data[\"coordinates\"]\n",
    "        prepared_data[\"latitude\"] = coordinates[\"latitude\"]\n",
    "        prepared_data[\"longitude\"] = coordinates[\"longitude\"]\n",
    "        \n",
    "        # Add to list if all values are present\n",
    "        if all(prepared_data.values()):\n",
    "            results.append(prepared_data)\n",
    "    \n",
    "    return results\n",
    "    \n",
    "# Test out function\n",
    "prepared_businesses = prepare_data(businesses)\n",
    "prepared_businesses[:5]"
   ]
  },
  {
   "cell_type": "markdown",
   "metadata": {},
   "source": [
    "Check that your function created the correct keys:"
   ]
  },
  {
   "cell_type": "code",
   "execution_count": 14,
   "metadata": {},
   "outputs": [],
   "source": [
    "# Run this cell without changes\n",
    "\n",
    "assert sorted(list(prepared_businesses[0].keys())) == ['latitude', 'longitude', 'name', 'price', 'rating', 'review_count']"
   ]
  },
  {
   "cell_type": "markdown",
   "metadata": {},
   "source": [
    "The following code will differ depending on your query, but we expect there to be 20 businesses in the original list, and potentially fewer in the prepared list (if any of them were missing data):"
   ]
  },
  {
   "cell_type": "code",
   "execution_count": 15,
   "metadata": {},
   "outputs": [
    {
     "name": "stdout",
     "output_type": "stream",
     "text": [
      "Original: 20\n",
      "Prepared: 20\n"
     ]
    }
   ],
   "source": [
    "# Run this cell without changes\n",
    "print(\"Original:\", len(businesses))\n",
    "print(\"Prepared:\", len(prepared_businesses))"
   ]
  },
  {
   "cell_type": "markdown",
   "metadata": {},
   "source": [
    "Great! We will reuse this function once we have retrieved the full dataset."
   ]
  },
  {
   "cell_type": "markdown",
   "metadata": {},
   "source": [
    "## 2. Add Pagination\n",
    "\n",
    "Now that you are able to extract information from one page of the response, let's figure out how to request as many pages as possible.\n",
    "\n",
    "### Determining the Total\n",
    "\n",
    "Depending on the number of total results for your query, you will either retrieve all of the results, or just the first 1000 (if there are more than 1000 total).\n",
    "\n",
    "We can find the total number of results using the `\"total\"` key:"
   ]
  },
  {
   "cell_type": "code",
   "execution_count": 16,
   "metadata": {},
   "outputs": [
    {
     "data": {
      "text/plain": [
       "240"
      ]
     },
     "execution_count": 16,
     "metadata": {},
     "output_type": "execute_result"
    }
   ],
   "source": [
    "# Run this cell without changes\n",
    "response_json[\"total\"]"
   ]
  },
  {
   "cell_type": "markdown",
   "metadata": {},
   "source": [
    "(This is specific to the implementation of the Yelp API. Some APIs will just tell you that there are more pages, or will tell you the number of pages total, rather than the total number of results. If you're not sure, always check the documentation.)\n",
    "\n",
    "In the cell below, assign the variable `total` to either the value shown above (if it is less than 1000), or 1000."
   ]
  },
  {
   "cell_type": "code",
   "execution_count": 17,
   "metadata": {},
   "outputs": [],
   "source": [
    "# Replace None with appropriate code\n",
    "total = response_json[\"total\"]"
   ]
  },
  {
   "cell_type": "markdown",
   "metadata": {},
   "source": [
    "### Calculating the Offsets\n",
    "\n",
    "The documentation states in the parameters section:\n",
    "\n",
    "> **Name**: `limit`, **Type:** int, **Description:** Optional. Number of business results to return. By default, it will return 20. Maximum is 50.\n",
    "\n",
    "> **Name**: `offset`, **Type:** int, **Description:** Optional. Offset the list of returned business results by this amount.\n",
    "\n",
    "So, to get the most results with the fewest API calls we want to set a limit of 50 every time. If, say, we wanted to get 210 total results, that would mean:\n",
    "\n",
    "1. Offset of `0` (first 50 records)\n",
    "2. Offset of `50` (second 50 records)\n",
    "3. Offset of `100` (third 50 records)\n",
    "4. Offset of `150` (fourth 50 records)\n",
    "5. Offset of `200` (final 10 records)\n",
    "\n",
    "In the cell below, create a function `get_offsets` that takes in a total and returns a list of offsets for that total. You can assume that there is a limit of 50 every time.\n",
    "\n",
    "*Hint: you can use `range` ([documentation here](https://docs.python.org/3.3/library/stdtypes.html?highlight=range#range)) to do this in one line of code. Just make the returned result is a list.*"
   ]
  },
  {
   "cell_type": "code",
   "execution_count": 20,
   "metadata": {},
   "outputs": [],
   "source": [
    "# Replace None with appropriate code\n",
    "def get_offsets(total):\n",
    "    \"\"\"\n",
    "    Get a list of offsets needed to get all pages\n",
    "    of data up until the total\n",
    "    \"\"\"\n",
    "    return list(range(0, total, 50))"
   ]
  },
  {
   "cell_type": "markdown",
   "metadata": {},
   "source": [
    "Check that your function works below:"
   ]
  },
  {
   "cell_type": "code",
   "execution_count": 21,
   "metadata": {},
   "outputs": [],
   "source": [
    "# Run this cell without changes\n",
    "\n",
    "assert get_offsets(200) == [0, 50, 100, 150]\n",
    "assert get_offsets(210) == [0, 50, 100, 150, 200]"
   ]
  },
  {
   "cell_type": "markdown",
   "metadata": {},
   "source": [
    "### Putting It All Together\n",
    "\n",
    "Recall that the following variable has already been declared for you:"
   ]
  },
  {
   "cell_type": "code",
   "execution_count": 22,
   "metadata": {},
   "outputs": [
    {
     "data": {
      "text/plain": [
       "{'term': 'pizza', 'location': 'New+York+NY'}"
      ]
     },
     "execution_count": 22,
     "metadata": {},
     "output_type": "execute_result"
    }
   ],
   "source": [
    "# Run this cell without changes\n",
    "url_params"
   ]
  },
  {
   "cell_type": "markdown",
   "metadata": {},
   "source": [
    "We'll go ahead and also specify that the limit should be 50 every time:"
   ]
  },
  {
   "cell_type": "code",
   "execution_count": 23,
   "metadata": {},
   "outputs": [],
   "source": [
    "# Run this cell without changes\n",
    "url_params[\"limit\"] = 50"
   ]
  },
  {
   "cell_type": "markdown",
   "metadata": {},
   "source": [
    "In order to modify the offset, you'll need to add it to `url_params` with the key `\"offset\"` and whatever value is needed.\n",
    "\n",
    "In the cell below, write code that:\n",
    "\n",
    "* Creates an empty list for the full prepared dataset\n",
    "* Loops over all of the offsets from `get_offsets` and makes an API call each time with the specified offset\n",
    "* Calls `prepare_data` to get a cleaned version of the result of each API call\n",
    "* Extends the full prepared dataset list with each query's prepared dataset"
   ]
  },
  {
   "cell_type": "code",
   "execution_count": 24,
   "metadata": {},
   "outputs": [
    {
     "data": {
      "text/plain": [
       "200"
      ]
     },
     "execution_count": 24,
     "metadata": {},
     "output_type": "execute_result"
    }
   ],
   "source": [
    "# Replace None with appropriate code\n",
    "\n",
    "# Create an empty list for the full prepared dataset\n",
    "full_dataset = []\n",
    "\n",
    "for offset in get_offsets(total):\n",
    "    # Add or update the \"offset\" key-value pair in url_params\n",
    "    url_params['offset'] = offset\n",
    "    \n",
    "    # Make the query and get the response\n",
    "    response = requests.get(url, headers=headers, params=url_params)\n",
    "    \n",
    "    # Get the response body in JSON format\n",
    "    response_json = response.json()\n",
    "    \n",
    "    # Get the list of businesses from the response_json\n",
    "    businesses = response_json['businesses']\n",
    "    \n",
    "    # Call the prepare_data function to get a list of processed data\n",
    "    prepared_businesses = prepare_data(businesses)\n",
    "    \n",
    "    # Extend full_dataset with this list (don't append, or you'll get\n",
    "    # a list of lists instead of a flat list)\n",
    "    full_dataset.extend(prepared_businesses)\n",
    "\n",
    "# Check the length of the full dataset. It will be up to `total`,\n",
    "# potentially less if there were missing values\n",
    "len(full_dataset)"
   ]
  },
  {
   "cell_type": "markdown",
   "metadata": {},
   "source": [
    "This code may take up to a few minutes to run.\n",
    "\n",
    "If you get an error trying to get the response body in JSON format, try adding `time.sleep(1)` right after the `requests.get` line, so your code will sleep for 1 second between each API call."
   ]
  },
  {
   "cell_type": "markdown",
   "metadata": {},
   "source": [
    "## 3. Perform Exploratory Analysis\n",
    "\n",
    "Take the businesses from the previous question and do an initial exploratory analysis. We have provided some plots for you to interpret:"
   ]
  },
  {
   "cell_type": "code",
   "execution_count": 25,
   "metadata": {},
   "outputs": [
    {
     "data": {
      "image/png": "[encoded data removed]",
      "text/plain": [
       "<Figure size 1152x360 with 3 Axes>"
      ]
     },
     "metadata": {
      "needs_background": "light"
     },
     "output_type": "display_data"
    }
   ],
   "source": [
    "# Run this cell without changes\n",
    "from collections import Counter\n",
    "import matplotlib.pyplot as plt\n",
    "%matplotlib inline\n",
    "\n",
    "fig, (ax1, ax2, ax3) = plt.subplots(ncols=3, figsize=(16, 5))\n",
    "\n",
    "# Plot distribution of number of reviews\n",
    "all_review_counts = [x[\"review_count\"] for x in full_dataset]\n",
    "ax1.hist(all_review_counts)\n",
    "ax1.set_title(\"Review Count Distribution\")\n",
    "ax1.set_xlabel(\"Number of Reviews\")\n",
    "ax1.set_ylabel(\"Number of Businesses\")\n",
    "\n",
    "# Plot rating distribution\n",
    "all_ratings = [x[\"rating\"] for x in full_dataset]\n",
    "rating_counter = Counter(all_ratings)\n",
    "rating_keys = sorted(rating_counter.keys())\n",
    "ax2.bar(rating_keys, [rating_counter[key] for key in rating_keys])\n",
    "ax2.set_title(\"Rating Distribution\")\n",
    "ax2.set_xlabel(\"Rating\")\n",
    "ax2.set_ylabel(\"Number of Businesses\")\n",
    "\n",
    "# Plot price distribution\n",
    "all_prices = [x[\"price\"].replace(\"$\", r\"\\$\") for x in full_dataset]\n",
    "price_counter = Counter(all_prices)\n",
    "price_keys = sorted(price_counter.keys())\n",
    "ax3.bar(price_keys, [price_counter[key] for key in price_keys])\n",
    "ax3.set_title(\"Price Distribution\")\n",
    "ax3.set_xlabel(\"Price Category\")\n",
    "ax3.set_ylabel(\"Number of Businesses\");"
   ]
  },
  {
   "cell_type": "markdown",
   "metadata": {},
   "source": [
    "Describe the distributions displayed above and interpret them in the context of your query. (Your answer may differ from the solution branch depending on your query.)"
   ]
  },
  {
   "cell_type": "code",
   "execution_count": 26,
   "metadata": {},
   "outputs": [
    {
     "data": {
      "text/plain": [
       "'\\nMost businesses have 1000 and less reviews; the review count is very skewed (right skewed?).\\nMost businesses have around a 4.0 - 5.0 rating, and there are no ratings below 2.5 or above 5.5.\\nMost businesses are priced at $$ or less, with few being priced higher.\\n'"
      ]
     },
     "execution_count": 26,
     "metadata": {},
     "output_type": "execute_result"
    }
   ],
   "source": [
    "# Replace None with appropriate text\n",
    "\"\"\"\n",
    "Most businesses have 1000 and less reviews; the review count is very skewed (right skewed?).\n",
    "Most businesses have around a 4.0 - 5.0 rating, and there are no ratings below 2.5 or above 5.5.\n",
    "Most businesses are priced at $$ or less, with few being priced higher.\n",
    "\"\"\""
   ]
  },
  {
   "cell_type": "markdown",
   "metadata": {},
   "source": [
    "In the cell below, we also plot the rating distributions by price. In this setup, a price of one dollar sign is \"lower price\" and everything else is \"higher price\"."
   ]
  },
  {
   "cell_type": "code",
   "execution_count": 27,
   "metadata": {},
   "outputs": [
    {
     "data": {
      "image/png": "[encoded data removed]",
      "text/plain": [
       "<Figure size 432x288 with 1 Axes>"
      ]
     },
     "metadata": {
      "needs_background": "light"
     },
     "output_type": "display_data"
    }
   ],
   "source": [
    "# Run this cell without changes\n",
    "\n",
    "higher_price = []\n",
    "lower_price = []\n",
    "for row in full_dataset:\n",
    "    if row[\"price\"] == \"$\":\n",
    "        lower_price.append(row[\"rating\"])\n",
    "    else:\n",
    "        higher_price.append(row[\"rating\"])\n",
    "        \n",
    "fig, ax = plt.subplots()\n",
    "\n",
    "ax.hist([higher_price, lower_price], label=[\"higher price\", \"lower price\"], density=True)\n",
    "\n",
    "ax.legend();"
   ]
  },
  {
   "cell_type": "markdown",
   "metadata": {},
   "source": [
    "Is a higher price associated with a higher rating? (No need for any additional math/statistics, just interpret what you see in the plot.)"
   ]
  },
  {
   "cell_type": "code",
   "execution_count": 28,
   "metadata": {},
   "outputs": [
    {
     "data": {
      "text/plain": [
       "'\\nYes; when you have a higher price (the blue bar), the rating tends to be higher. However, \\nmost businesses with a greater lower price (the orange bar) tend to have lower ratings.\\n'"
      ]
     },
     "execution_count": 28,
     "metadata": {},
     "output_type": "execute_result"
    }
   ],
   "source": [
    "# Replace None with appropriate text\n",
    "\"\"\"\n",
    "Yes; when you have a higher price (the blue bar), the rating tends to be higher. However, \n",
    "most businesses with a greater lower price (the orange bar) tend to have lower ratings.\n",
    "\"\"\""
   ]
  },
  {
   "cell_type": "markdown",
   "metadata": {},
   "source": [
    "Finally, let's look at ratings vs. review counts:"
   ]
  },
  {
   "cell_type": "code",
   "execution_count": 29,
   "metadata": {},
   "outputs": [
    {
     "data": {
      "image/png": "[encoded data removed]",
      "text/plain": [
       "<Figure size 1152x360 with 1 Axes>"
      ]
     },
     "metadata": {
      "needs_background": "light"
     },
     "output_type": "display_data"
    }
   ],
   "source": [
    "# Run this cell without changes\n",
    "fig, ax = plt.subplots(figsize=(16,5))\n",
    "\n",
    "ax.scatter(all_review_counts, all_ratings, alpha=0.2)\n",
    "ax.set_xlabel(\"Number of Reviews\")\n",
    "ax.set_ylabel(\"Rating\")\n",
    "# \"zoom in\" to a subset of review counts\n",
    "ax.set_xlim(left=0, right=1000);"
   ]
  },
  {
   "cell_type": "markdown",
   "metadata": {},
   "source": [
    "Is a higher number of reviews associated with a higher rating?"
   ]
  },
  {
   "cell_type": "code",
   "execution_count": 30,
   "metadata": {},
   "outputs": [
    {
     "data": {
      "text/plain": [
       "'\\nI would say no? Most reviews are around the 4.0 rating, and as you go past 4.0, the number of ratings decline.\\n'"
      ]
     },
     "execution_count": 30,
     "metadata": {},
     "output_type": "execute_result"
    }
   ],
   "source": [
    "# Replace None with appropriate text\n",
    "\"\"\"\n",
    "I would say no? Most reviews are around the 4.0 rating, and as you go past 4.0, the number of ratings decline.\n",
    "\"\"\""
   ]
  },
  {
   "cell_type": "markdown",
   "metadata": {},
   "source": [
    "## 4. Create a Folium Map\n",
    "\n",
    "Make a map using Folium of the businesses you retrieved. Be sure to also add popups to the markers giving some basic information such as name, rating and price.\n",
    "\n",
    "You can center the map around the latitude and longitude of the first item in `full_dataset`."
   ]
  },
  {
   "cell_type": "code",
   "execution_count": 33,
   "metadata": {},
   "outputs": [
    {
     "data": {
      "text/html": [
       "<div style=\"width:100%;\"><div style=\"position:relative;width:100%;height:0;padding-bottom:60%;\"><span style=\"color:#565656\">Make this Notebook Trusted to load map: File -> Trust Notebook</span><iframe src=\"about:blank\" style=\"position:absolute;width:100%;height:100%;left:0;top:0;border:none !important;\" data-html=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 onload=\"this.contentDocument.open();this.contentDocument.write(atob(this.getAttribute('data-html')));this.contentDocument.close();\" allowfullscreen webkitallowfullscreen mozallowfullscreen></iframe></div></div>"
      ],
      "text/plain": [
       "<folium.folium.Map at 0x7fdf75c897c0>"
      ]
     },
     "execution_count": 33,
     "metadata": {},
     "output_type": "execute_result"
    }
   ],
   "source": [
    "# Replace None with appropriate code\n",
    "\n",
    "# Import the library\n",
    "import folium\n",
    "\n",
    "# Set up center latitude and longitude\n",
    "center_lat = full_dataset[0]['latitude']\n",
    "center_long = full_dataset[0]['longitude']\n",
    "\n",
    "# Initialize map with center lat and long\n",
    "yelp_map = folium.Map([center_lat, center_long], zoom_start=12)\n",
    "\n",
    "# Adjust this limit to see more or fewer businesses\n",
    "limit=100\n",
    "\n",
    "for business in full_dataset[:limit]:\n",
    "    # Extract information about business\n",
    "    lat = business['latitude']\n",
    "    long = business['longitude']\n",
    "    name = business['name']\n",
    "    rating = business['rating']\n",
    "    price = business['price']\n",
    "    details = \"{}\\nPrice: {} Rating:{}\".format(name,price,rating)\n",
    "    \n",
    "    # Create popup with relevant details\n",
    "    popup = folium.Popup(details)\n",
    "    \n",
    "    # Create marker with relevant lat/long and popup\n",
    "    marker = folium.Marker([lat, long], popup=popup)\n",
    "    \n",
    "    marker.add_to(yelp_map)\n",
    "    \n",
    "yelp_map"
   ]
  },
  {
   "cell_type": "markdown",
   "metadata": {},
   "source": [
    "## Summary\n",
    "\n",
    "Nice work! In this lab, you've made multiple API calls to Yelp in order to paginate through a results set, performing some basic exploratory analysis and then creating a nice interactive map to display the results using Folium! Well done!"
   ]
  }
 ],
 "metadata": {
  "kernelspec": {
   "display_name": "Python 3",
   "language": "python",
   "name": "python3"
  },
  "language_info": {
   "codemirror_mode": {
    "name": "ipython",
    "version": 3
   },
   "file_extension": ".py",
   "mimetype": "text/x-python",
   "name": "python",
   "nbconvert_exporter": "python",
   "pygments_lexer": "ipython3",
   "version": "3.8.5"
  },
  "toc": {
   "base_numbering": 1,
   "nav_menu": {},
   "number_sections": true,
   "sideBar": true,
   "skip_h1_title": false,
   "title_cell": "Table of Contents",
   "title_sidebar": "Contents",
   "toc_cell": false,
   "toc_position": {},
   "toc_section_display": true,
   "toc_window_display": false
  }
 },
 "nbformat": 4,
 "nbformat_minor": 2
}
